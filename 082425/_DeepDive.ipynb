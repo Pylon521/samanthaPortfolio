{
 "cells": [
  {
   "cell_type": "markdown",
   "id": "3e9a06e5",
   "metadata": {},
   "source": [
    "Create multi scatter plot - https://seaborn.pydata.org/examples/scatterplot_matrix.html\n",
    "linear regression with marginal distribution - https://seaborn.pydata.org/examples/regression_marginals.html\n",
    "Horizontal boxplot with observations for fav countries reponse - https://seaborn.pydata.org/examples/horizontal_boxplot.html\n",
    "\n",
    "seaborn heavy\n",
    "\n",
    "later create an interactive dash\n",
    "\n",
    "provide conclusion\n",
    "\n",
    "bonus point to create prediction"
   ]
  },
  {
   "cell_type": "code",
   "execution_count": 2,
   "id": "066939e6",
   "metadata": {},
   "outputs": [
    {
     "data": {
      "application/vnd.microsoft.datawrangler.viewer.v0+json": {
       "columns": [
        {
         "name": "index",
         "rawType": "int64",
         "type": "integer"
        },
        {
         "name": "Unnamed: 0",
         "rawType": "object",
         "type": "unknown"
        },
        {
         "name": "Unnamed: 1",
         "rawType": "object",
         "type": "string"
        },
        {
         "name": "0",
         "rawType": "float64",
         "type": "float"
        }
       ],
       "ref": "79127bd5-87ee-4467-9703-bc8a97f74ca5",
       "rows": [
        [
         "0",
         "uspres_rusukr",
         "uspres_isrhamas",
         "0.616922409022866"
        ],
        [
         "1",
         "fav_eu",
         "fav_un",
         "0.6132426542529734"
        ],
        [
         "2",
         "uspres_econ",
         "uspres_climate",
         "0.6077034322549377"
        ],
        [
         "3",
         null,
         "uspres_china",
         "0.584018727051066"
        ],
        [
         "4",
         "uspres_china",
         "uspres_rusukr",
         "0.5751099955271616"
        ],
        [
         "5",
         "uspres_econ",
         "uspres_rusukr",
         "0.5742436234557058"
        ],
        [
         "6",
         "fav_china",
         "fav_russia",
         "0.5701248202235798"
        ],
        [
         "7",
         "religion_none",
         "religion_switch",
         "0.5618627621549421"
        ],
        [
         "8",
         "uspres_china",
         "uspres_isrhamas",
         "0.5614749482490883"
        ],
        [
         "9",
         "uspres_climate",
         "uspres_china",
         "0.554431522162177"
        ],
        [
         "10",
         "uspres_econ",
         "uspres_isrhamas",
         "0.5541566394128592"
        ],
        [
         "11",
         "religion_none",
         "religion_import",
         "-0.545286341490544"
        ],
        [
         "12",
         "prob_racediscrim",
         "prob_reldiscrim",
         "0.5311751172947352"
        ],
        [
         "13",
         "uspres_climate",
         "uspres_rusukr",
         "0.5214113591393852"
        ],
        [
         "14",
         null,
         "uspres_isrhamas",
         "0.5172554877042354"
        ],
        [
         "15",
         "fav_eu",
         "fav_russia",
         "0.5127004722322019"
        ],
        [
         "16",
         "fav_us",
         "fav_eu",
         "0.5090585335705696"
        ],
        [
         "17",
         null,
         "fav_un",
         "0.4972952132807625"
        ],
        [
         "18",
         "fav_china",
         "fav_eu",
         "0.4911290759127295"
        ],
        [
         "19",
         "fav_un",
         "fav_russia",
         "0.4902383045241769"
        ],
        [
         "20",
         "fav_china",
         "fav_un",
         "0.4863832573684408"
        ],
        [
         "21",
         "religion_import",
         "nationality_relig1",
         "0.4802517382164458"
        ],
        [
         "22",
         "fav_us",
         "fav_china",
         "0.4801545463106335"
        ],
        [
         "23",
         null,
         "fav_russia",
         "0.4643309531385103"
        ],
        [
         "24",
         "prob_gen_unequal",
         "prob_racediscrim",
         "0.4169670849512819"
        ],
        [
         "25",
         "fav_eu",
         "uspres_rusukr",
         "0.416489616430622"
        ],
        [
         "26",
         "fav_un",
         "uspres_rusukr",
         "0.4011414076749973"
        ],
        [
         "27",
         null,
         "uspres_econ",
         "0.3973360019272668"
        ],
        [
         "28",
         "prob_gen_unequal",
         "prob_reldiscrim",
         "0.3938107617721576"
        ],
        [
         "29",
         "religion_switch",
         "religion_import",
         "-0.3914337929360715"
        ],
        [
         "30",
         "fav_eu",
         "uspres_china",
         "0.3886841143929201"
        ],
        [
         "31",
         null,
         "uspres_econ",
         "0.3875194447619404"
        ],
        [
         "32",
         "uspres_rusukr",
         "usdemocracy_example",
         "0.3869717257579173"
        ],
        [
         "33",
         "uspres_econ",
         "usdemocracy_example",
         "0.3868148502187645"
        ],
        [
         "34",
         "fav_un",
         "uspres_china",
         "0.3867034658087524"
        ],
        [
         "35",
         "usdemocracy_example",
         "china_influ_econ",
         "0.3862720091001083"
        ],
        [
         "36",
         "practice_wear",
         "practice_candles",
         "0.3800274301198608"
        ],
        [
         "37",
         "prob_racediscrim",
         "inequality_discrim",
         "0.3798864507459896"
        ],
        [
         "38",
         "fav_eu",
         "uspres_isrhamas",
         "0.3784929738479505"
        ],
        [
         "39",
         null,
         "usdemocracy_example",
         "0.3729629784513849"
        ],
        [
         "40",
         "relimpact_society",
         "relimpact_tolerance",
         "0.3722162397697403"
        ],
        [
         "41",
         "fav_un",
         "uspres_isrhamas",
         "0.3702521355412491"
        ],
        [
         "42",
         "uspres_china",
         "usdemocracy_example",
         "0.3697372510146977"
        ],
        [
         "43",
         "fav_un",
         "uspres_climate",
         "0.3687001404028511"
        ],
        [
         "44",
         "fav_us",
         "usdemocracy_example",
         "0.3664318773550679"
        ],
        [
         "45",
         null,
         "uspres_rusukr",
         "0.3663695315865201"
        ],
        [
         "46",
         null,
         "uspres_econ",
         "0.362399212668142"
        ],
        [
         "47",
         "fav_un",
         "usdemocracy_example",
         "0.3597056900106966"
        ],
        [
         "48",
         "uspres_isrhamas",
         "usdemocracy_example",
         "0.3582767424913427"
        ],
        [
         "49",
         "religion_christian",
         "religion_none",
         "-0.3578472281045869"
        ]
       ],
       "shape": {
        "columns": 3,
        "rows": 780
       }
      },
      "text/html": [
       "<div>\n",
       "<style scoped>\n",
       "    .dataframe tbody tr th:only-of-type {\n",
       "        vertical-align: middle;\n",
       "    }\n",
       "\n",
       "    .dataframe tbody tr th {\n",
       "        vertical-align: top;\n",
       "    }\n",
       "\n",
       "    .dataframe thead th {\n",
       "        text-align: right;\n",
       "    }\n",
       "</style>\n",
       "<table border=\"1\" class=\"dataframe\">\n",
       "  <thead>\n",
       "    <tr style=\"text-align: right;\">\n",
       "      <th></th>\n",
       "      <th>Unnamed: 0</th>\n",
       "      <th>Unnamed: 1</th>\n",
       "      <th>0</th>\n",
       "    </tr>\n",
       "  </thead>\n",
       "  <tbody>\n",
       "    <tr>\n",
       "      <th>0</th>\n",
       "      <td>uspres_rusukr</td>\n",
       "      <td>uspres_isrhamas</td>\n",
       "      <td>6.169224e-01</td>\n",
       "    </tr>\n",
       "    <tr>\n",
       "      <th>1</th>\n",
       "      <td>fav_eu</td>\n",
       "      <td>fav_un</td>\n",
       "      <td>6.132427e-01</td>\n",
       "    </tr>\n",
       "    <tr>\n",
       "      <th>2</th>\n",
       "      <td>uspres_econ</td>\n",
       "      <td>uspres_climate</td>\n",
       "      <td>6.077034e-01</td>\n",
       "    </tr>\n",
       "    <tr>\n",
       "      <th>3</th>\n",
       "      <td>NaN</td>\n",
       "      <td>uspres_china</td>\n",
       "      <td>5.840187e-01</td>\n",
       "    </tr>\n",
       "    <tr>\n",
       "      <th>4</th>\n",
       "      <td>uspres_china</td>\n",
       "      <td>uspres_rusukr</td>\n",
       "      <td>5.751100e-01</td>\n",
       "    </tr>\n",
       "    <tr>\n",
       "      <th>...</th>\n",
       "      <td>...</td>\n",
       "      <td>...</td>\n",
       "      <td>...</td>\n",
       "    </tr>\n",
       "    <tr>\n",
       "      <th>775</th>\n",
       "      <td>fav_china</td>\n",
       "      <td>religion_switch</td>\n",
       "      <td>-1.027183e-04</td>\n",
       "    </tr>\n",
       "    <tr>\n",
       "      <th>776</th>\n",
       "      <td>weight</td>\n",
       "      <td>prob_reldiscrim</td>\n",
       "      <td>-7.583002e-05</td>\n",
       "    </tr>\n",
       "    <tr>\n",
       "      <th>777</th>\n",
       "      <td>prob_gen_unequal</td>\n",
       "      <td>religion_switch</td>\n",
       "      <td>-3.150056e-05</td>\n",
       "    </tr>\n",
       "    <tr>\n",
       "      <th>778</th>\n",
       "      <td>weight</td>\n",
       "      <td>id</td>\n",
       "      <td>-3.538326e-06</td>\n",
       "    </tr>\n",
       "    <tr>\n",
       "      <th>779</th>\n",
       "      <td>country</td>\n",
       "      <td>weight</td>\n",
       "      <td>-7.999373e-15</td>\n",
       "    </tr>\n",
       "  </tbody>\n",
       "</table>\n",
       "<p>780 rows × 3 columns</p>\n",
       "</div>"
      ],
      "text/plain": [
       "           Unnamed: 0       Unnamed: 1             0\n",
       "0       uspres_rusukr  uspres_isrhamas  6.169224e-01\n",
       "1              fav_eu           fav_un  6.132427e-01\n",
       "2         uspres_econ   uspres_climate  6.077034e-01\n",
       "3                 NaN     uspres_china  5.840187e-01\n",
       "4        uspres_china    uspres_rusukr  5.751100e-01\n",
       "..                ...              ...           ...\n",
       "775         fav_china  religion_switch -1.027183e-04\n",
       "776            weight  prob_reldiscrim -7.583002e-05\n",
       "777  prob_gen_unequal  religion_switch -3.150056e-05\n",
       "778            weight               id -3.538326e-06\n",
       "779           country           weight -7.999373e-15\n",
       "\n",
       "[780 rows x 3 columns]"
      ]
     },
     "execution_count": 2,
     "metadata": {},
     "output_type": "execute_result"
    }
   ],
   "source": [
    "import pandas as pd\n",
    "sorted_corr = pd.read_excel('sorted_corr.xlsx')\n",
    "sorted_corr\n",
    "# missing column names why?"
   ]
  }
 ],
 "metadata": {
  "kernelspec": {
   "display_name": "Python 3",
   "language": "python",
   "name": "python3"
  },
  "language_info": {
   "codemirror_mode": {
    "name": "ipython",
    "version": 3
   },
   "file_extension": ".py",
   "mimetype": "text/x-python",
   "name": "python",
   "nbconvert_exporter": "python",
   "pygments_lexer": "ipython3",
   "version": "3.13.0"
  }
 },
 "nbformat": 4,
 "nbformat_minor": 5
}
